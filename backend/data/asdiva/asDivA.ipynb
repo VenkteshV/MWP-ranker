{
 "cells": [
  {
   "cell_type": "code",
   "execution_count": 1,
   "metadata": {
    "collapsed": true
   },
   "outputs": [],
   "source": [
    "# use bs4 to read xml file\n",
    "from bs4 import BeautifulSoup\n",
    "\n",
    "with open('rawData.xml', 'r') as f:\n",
    "    soup = BeautifulSoup(f, 'xml')\n"
   ]
  },
  {
   "cell_type": "code",
   "execution_count": 17,
   "outputs": [],
   "source": [
    "# get all the tags\n",
    "def processProb(prob):\n",
    "    ques = prob.find('Body').text + prob.find('Question').text\n",
    "    eqn = prob.find('Formula').text\n",
    "    # concat ques and eqn in one string\n",
    "    return ques + \"\\t\" + eqn"
   ],
   "metadata": {
    "collapsed": false
   }
  },
  {
   "cell_type": "code",
   "execution_count": 20,
   "outputs": [],
   "source": [
    "probList = []\n",
    "for prob in soup.find_all('Problem'):\n",
    "    probList.append(processProb(prob))"
   ],
   "metadata": {
    "collapsed": false
   }
  },
  {
   "cell_type": "code",
   "execution_count": 27,
   "outputs": [],
   "source": [
    "quesText = ''\n",
    "for prob in soup.find_all('Problem'):\n",
    "    ques = prob.find('Body').text + prob.find('Question').text\n",
    "    quesText += ques\n",
    "# creating vocab of words and count\n",
    "wordCount = {}\n",
    "for word in quesText.split():\n",
    "    if word not in wordCount:\n",
    "        wordCount[word] = 1\n",
    "    else:\n",
    "        wordCount[word] += 1\n",
    "\n",
    "# save wordCount to file\n",
    "with open('vocab.q.txt', 'w') as f:\n",
    "    for word in wordCount:\n",
    "        f.write(word + '\\t' + str(wordCount[word]) + '\\n')"
   ],
   "metadata": {
    "collapsed": false
   }
  },
  {
   "cell_type": "code",
   "execution_count": 28,
   "outputs": [],
   "source": [
    "eqnText = ''\n",
    "for prob in soup.find_all('Problem'):\n",
    "    eqn = prob.find('Formula').text\n",
    "    eqnText += eqn\n",
    "# creating vocab of words and count\n",
    "wordCount = {}\n",
    "for word in eqnText.split():\n",
    "    if word not in wordCount:\n",
    "        wordCount[word] = 1\n",
    "    else:\n",
    "        wordCount[word] += 1\n",
    "\n",
    "# save wordCount to file\n",
    "with open('vocab.f.txt', 'w') as f:\n",
    "    for word in wordCount:\n",
    "        f.write(word + '\\t' + str(wordCount[word]) + '\\n')"
   ],
   "metadata": {
    "collapsed": false
   }
  },
  {
   "cell_type": "code",
   "execution_count": 22,
   "outputs": [],
   "source": [
    "# train test valid split list\n",
    "import random\n",
    "random.seed(42)\n",
    "random.shuffle(probList)\n",
    "\n",
    "# split\n",
    "train = probList[:int(len(probList)*0.8)]\n",
    "valid = probList[int(len(probList)*0.8):int(len(probList)*0.9)]\n",
    "test = probList[int(len(probList)*0.9):]\n"
   ],
   "metadata": {
    "collapsed": false
   }
  },
  {
   "cell_type": "code",
   "execution_count": 26,
   "outputs": [],
   "source": [
    "# write to file\n",
    "with open('all_asDivA.txt', 'w') as f:\n",
    "    for prob in probList:\n",
    "        f.write(prob + '\\n')\n",
    "with open('train.txt', 'w') as f:\n",
    "    for prob in train:\n",
    "        f.write(prob + '\\n')\n",
    "with open('valid.txt', 'w') as f:\n",
    "    for prob in valid:\n",
    "        f.write(prob + '\\n')\n",
    "with open('test.txt', 'w') as f:\n",
    "    for prob in test:\n",
    "        f.write(prob + '\\n')"
   ],
   "metadata": {
    "collapsed": false
   }
  },
  {
   "cell_type": "code",
   "execution_count": null,
   "outputs": [],
   "source": [],
   "metadata": {
    "collapsed": false
   }
  }
 ],
 "metadata": {
  "kernelspec": {
   "display_name": "Python 3",
   "language": "python",
   "name": "python3"
  },
  "language_info": {
   "codemirror_mode": {
    "name": "ipython",
    "version": 2
   },
   "file_extension": ".py",
   "mimetype": "text/x-python",
   "name": "python",
   "nbconvert_exporter": "python",
   "pygments_lexer": "ipython2",
   "version": "2.7.6"
  }
 },
 "nbformat": 4,
 "nbformat_minor": 0
}
