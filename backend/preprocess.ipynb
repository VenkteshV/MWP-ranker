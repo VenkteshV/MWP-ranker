{
 "cells": [
  {
   "cell_type": "code",
   "execution_count": 5,
   "outputs": [],
   "source": [
    "import pandas as pd\n",
    "\n",
    "df_all = pd.read_pickle('data/TextData/all_df_final.pkl')\n",
    "df_test = pd.read_pickle('data/TextData/test_df_final.pkl')\n"
   ],
   "metadata": {
    "collapsed": false
   }
  },
  {
   "cell_type": "code",
   "execution_count": 10,
   "outputs": [
    {
     "data": {
      "text/plain": "'x = ( 1 * 0.01 ) * 2'"
     },
     "execution_count": 10,
     "metadata": {},
     "output_type": "execute_result"
    }
   ],
   "source": [
    "df_all['eqn'][0]"
   ],
   "metadata": {
    "collapsed": false
   }
  },
  {
   "cell_type": "code",
   "execution_count": 4,
   "outputs": [],
   "source": [
    "class nptr:\n",
    "    def __init__(self, c):\n",
    "        self.data = c\n",
    "        self.left = None\n",
    "        self.right = None\n",
    "\n",
    "\n",
    "def display(node):\n",
    "    if (node is None):\n",
    "        print(\"\")\n",
    "        return\n",
    "    display(node.left)\n",
    "    print(node.data, end=\" \")\n",
    "    display(node.right)\n",
    "\n",
    "\n",
    "def newNode(c):\n",
    "    n = nptr(c)\n",
    "    return n\n",
    "\n",
    "\n",
    "def isDecimal(value):\n",
    "    try:\n",
    "        float(value)\n",
    "        return True\n",
    "    except ValueError:\n",
    "        return False\n",
    "\n",
    "\n",
    "def build(s):\n",
    "    stN = []\n",
    "    stC = []\n",
    "\n",
    "    p = [0] * 123\n",
    "    p[ord('+')] = p[ord('-')] = 1\n",
    "    p[ord('/')] = p[ord('*')] = 2\n",
    "    p[ord('^')] = 3\n",
    "    p[ord(')')] = 0\n",
    "\n",
    "    for i in s.split():\n",
    "        # print(i)\n",
    "        if i == '(':\n",
    "            stC.append(i)\n",
    "        # Push the operands in node stack\n",
    "        elif (i.isalpha() or i.isnumeric() or i.isdecimal() or isDecimal(i)):\n",
    "            t = newNode(i)\n",
    "            stN.append(t)\n",
    "\n",
    "        elif (p[ord(i)] > 0):\n",
    "            while (len(stC) != 0 and stC[-1] != '(' and ((i != '^' and p[ord(stC[-1])] >= p[ord(i)])\n",
    "                                                         or (i == '^' and\n",
    "                                                             p[ord(stC[-1])] > p[ord(i)]))):\n",
    "                t = newNode(stC[-1])\n",
    "                stC.pop()\n",
    "                t1 = stN[-1]\n",
    "                stN.pop()\n",
    "                t2 = stN[-1]\n",
    "                stN.pop()\n",
    "                t.left = t2\n",
    "                t.right = t1\n",
    "\n",
    "                # Push the node to the node stack\n",
    "                stN.append(t)\n",
    "\n",
    "            # Push s[i] to char stack\n",
    "            stC.append(i)\n",
    "\n",
    "        elif (i == ')'):\n",
    "            while (len(stC) != 0 and stC[-1] != '('):\n",
    "                t = newNode(stC[-1])\n",
    "                stC.pop()\n",
    "                t1 = stN[-1]\n",
    "                stN.pop()\n",
    "                # if(len(stN)!=0):\n",
    "                t2 = stN[-1]\n",
    "                stN.pop()\n",
    "                t.left = t2\n",
    "                t.right = t1\n",
    "                stN.append(t)\n",
    "            stC.pop()\n",
    "    t = stN[-1]\n",
    "    return t"
   ],
   "metadata": {
    "collapsed": false
   }
  },
  {
   "cell_type": "code",
   "execution_count": 243,
   "outputs": [],
   "source": [
    "def eq_parser(eq):\n",
    "    try:\n",
    "        eq = eq.split('=')\n",
    "        eq_lhs  = '( '+eq[0]+' )'\n",
    "        eq_rhs  = '( '+eq[1]+' )'\n",
    "        # print(eq_lhs, eq_rhs)\n",
    "        return [build(eq_lhs), build(eq_rhs)]\n",
    "    except:\n",
    "        print(eq)\n",
    "        return []"
   ],
   "metadata": {
    "collapsed": false
   }
  },
  {
   "cell_type": "code",
   "execution_count": 204,
   "outputs": [
    {
     "data": {
      "text/plain": "[<__main__.nptr at 0x7f9435147550>, <__main__.nptr at 0x7f9435147eb0>]"
     },
     "execution_count": 204,
     "metadata": {},
     "output_type": "execute_result"
    }
   ],
   "source": [
    "eq_parser(df_all['eqn'][0])"
   ],
   "metadata": {
    "collapsed": false
   }
  },
  {
   "cell_type": "code",
   "execution_count": 205,
   "outputs": [
    {
     "name": "stdout",
     "output_type": "stream",
     "text": [
      "['2 * x ', ' ( - 1 )']\n",
      "['x ', ' ( ( ( - 2 ) * ( - 4 ) ) * 3 ) * ( - 1 )']\n",
      "['( 2 * x ) - ( - 1 ) ', ' ( - 3 )']\n",
      "['3 - ( 2 * x ) ', ' ( - 1 ) + x']\n",
      "['( 3.0 * x ) + ( 2 + x ) ', ' ( - 1 ) - ( 2.0 * x )']\n",
      "['( 2.0 * x ) + ( x - 2 ) ', ' ( - 1 ) - x']\n",
      "['( 2.0 * x ) + ( x - 2 ) ', ' ( - 1 ) - x']\n",
      "['( 2.0 * x ) + ( x - 2 ) ', ' ( - 1 ) - x']\n"
     ]
    }
   ],
   "source": [
    "tree = df_all['eqn'].apply(eq_parser)"
   ],
   "metadata": {
    "collapsed": false
   }
  },
  {
   "cell_type": "code",
   "execution_count": 206,
   "outputs": [
    {
     "data": {
      "text/plain": "2877"
     },
     "execution_count": 206,
     "metadata": {},
     "output_type": "execute_result"
    }
   ],
   "source": [
    "len(tree)"
   ],
   "metadata": {
    "collapsed": false
   }
  },
  {
   "cell_type": "code",
   "execution_count": 207,
   "outputs": [],
   "source": [
    "df_all['tree'] = tree"
   ],
   "metadata": {
    "collapsed": false
   }
  },
  {
   "cell_type": "code",
   "execution_count": 208,
   "outputs": [],
   "source": [
    "def if_variable(str):\n",
    "    return str.isalpha()\n",
    "\n",
    "def is_constant(str):\n",
    "    return str.isnumeric() or str.isdecimal() or isDecimal(str)\n"
   ],
   "metadata": {
    "collapsed": false
   }
  },
  {
   "cell_type": "code",
   "execution_count": 220,
   "outputs": [],
   "source": [
    "def compare_tree( root1, root2):\n",
    "    if root1 is None and root2 is None:\n",
    "        return True\n",
    "\n",
    "    if root1 is None or root2 is None:\n",
    "        return False\n",
    "    # print(root1.data, root2.data)\n",
    "\n",
    "    if if_variable(root1.data) and if_variable(root2.data):\n",
    "        return compare_tree(root1.left, root2.left) and compare_tree(root1.right, root2.right)\n",
    "\n",
    "    if is_constant(root1.data) and is_constant(root2.data):\n",
    "        return compare_tree(root1.left, root2.left) and compare_tree(root1.right, root2.right)\n",
    "\n",
    "    if(root1.data == root2.data ):\n",
    "        return compare_tree(root1.left, root2.left) and compare_tree(root1.right, root2.right)\n",
    "\n",
    "    return False"
   ],
   "metadata": {
    "collapsed": false
   }
  },
  {
   "cell_type": "code",
   "execution_count": 209,
   "outputs": [],
   "source": [],
   "metadata": {
    "collapsed": false
   }
  },
  {
   "cell_type": "code",
   "execution_count": 221,
   "outputs": [
    {
     "data": {
      "text/plain": "False"
     },
     "execution_count": 221,
     "metadata": {},
     "output_type": "execute_result"
    }
   ],
   "source": [
    "compare_tree(tree[0][0], tree[0][1])"
   ],
   "metadata": {
    "collapsed": false
   }
  },
  {
   "cell_type": "code",
   "execution_count": 222,
   "outputs": [
    {
     "name": "stdout",
     "output_type": "stream",
     "text": [
      "0\n",
      "100\n",
      "200\n",
      "300\n",
      "400\n",
      "500\n",
      "600\n",
      "700\n",
      "800\n",
      "900\n",
      "1000\n",
      "1100\n",
      "1200\n",
      "1300\n",
      "1400\n",
      "1500\n",
      "1600\n",
      "1700\n",
      "1800\n",
      "1900\n",
      "2000\n",
      "2100\n",
      "2200\n",
      "2300\n",
      "2400\n",
      "2500\n",
      "2600\n",
      "2700\n",
      "2800\n"
     ]
    }
   ],
   "source": [
    "lst = []\n",
    "for i in range(len(tree)):\n",
    "    if len(tree[i]) == 0:\n",
    "        continue\n",
    "    if i%100 == 0 :\n",
    "        print(i)\n",
    "    tmp = []\n",
    "    for j in range(len(tree)):\n",
    "        if len(tree[j]) == 0:\n",
    "            continue\n",
    "        if compare_tree(tree[i][0], tree[j][0]) and compare_tree(tree[i][1], tree[j][1]):\n",
    "            tmp.append(j)\n",
    "    lst.append(tmp)"
   ],
   "metadata": {
    "collapsed": false
   }
  },
  {
   "cell_type": "code",
   "execution_count": 250,
   "outputs": [],
   "source": [
    "lst_all = df_all['common']\n",
    "lst_test = df_test['common']"
   ],
   "metadata": {
    "collapsed": false
   }
  },
  {
   "cell_type": "code",
   "execution_count": 252,
   "outputs": [
    {
     "name": "stdout",
     "output_type": "stream",
     "text": [
      "[0, 1, 462, 1877, 2377, 2627]\n",
      "[0]\n"
     ]
    }
   ],
   "source": [
    "print(lst_all[0])\n",
    "print(lst_test[0])"
   ],
   "metadata": {
    "collapsed": false
   }
  },
  {
   "cell_type": "code",
   "execution_count": 234,
   "outputs": [
    {
     "data": {
      "text/plain": "'x = ( 8 * 0.01 ) * 2'"
     },
     "execution_count": 234,
     "metadata": {},
     "output_type": "execute_result"
    }
   ],
   "source": [
    "df['eqn'][1]"
   ],
   "metadata": {
    "collapsed": false
   }
  },
  {
   "cell_type": "code",
   "execution_count": 213,
   "outputs": [
    {
     "name": "stdout",
     "output_type": "stream",
     "text": [
      "x *\n"
     ]
    },
    {
     "data": {
      "text/plain": "False"
     },
     "execution_count": 213,
     "metadata": {},
     "output_type": "execute_result"
    }
   ],
   "source": [
    "compare_tree(tree[0][0], tree[4][0])"
   ],
   "metadata": {
    "collapsed": false
   }
  },
  {
   "cell_type": "code",
   "execution_count": 267,
   "outputs": [
    {
     "name": "stdout",
     "output_type": "stream",
     "text": [
      "as alyssa was searching through her couch cushions , she found 1 quarters , and 2 pennies in the couch . how much money in total does alyssa have ? ( 1 * 0.25 ) + ( 1 * 0.25 ) = x\n",
      "*****\n",
      "on wednesday , joan spent 1 half - dollars playing pinball . the next day , she spent 2 half - dollars on pinball . what was the total amount joan spent playing pinball ? ( 1 * 0.5 ) + ( 1 * 0.5 ) = x\n",
      "*****\n"
     ]
    }
   ],
   "source": [
    "for i in lst_all[1111]:\n",
    "    print(df_all['ques'][i],df_all['eqn'][i], end='\\n*****\\n')"
   ],
   "metadata": {
    "collapsed": false
   }
  },
  {
   "cell_type": "code",
   "execution_count": 264,
   "outputs": [
    {
     "name": "stdout",
     "output_type": "stream",
     "text": [
      "a bee has 2 legs . how many legs do 3 bees have ? x = ( 2 / 1 )\n",
      "*****\n",
      "christopher strolled 2 miles at 1 miles per hour . how long did christopher stroll ? x = ( 2 / 1 )\n",
      "*****\n",
      "if benjamin strolled 2 miles at 1 miles per hour , how long was benjamin travelling ? x = ( 2 / 1 )\n",
      "*****\n",
      "if lawrence walked 2 kilometers at 1 kilometers per hour , how long was lawrence walking ? x = ( 2 / 1 )\n",
      "*****\n",
      "mr . guzman bought 1 doughnuts packed equally into 2 boxes . how many doughnuts were in each box ? x = ( 1 / 2 )\n",
      "*****\n",
      "jack is inviting 1 friends to a party . he has 1 cookies . how many cookies will each friend get ? x = ( 2 / 1 )\n",
      "*****\n",
      "virginia has 2 eggs and 1 skittles . if she shares the eggs among 3 friends , how many eggs does each friend get ? x = ( 3 / 2 )\n",
      "*****\n",
      "there are 1 bottle caps in beverly's bottle cap collection . if the bottle caps are organized into 2 groups , how big is each group ? x = ( 1 / 2 )\n",
      "*****\n",
      "there are 1 students in the class and 2 tickets . if the tickets are divided equally among the students , how many does each student get ? x = ( 1 / 2 )\n",
      "*****\n",
      "billy was putting his spare change into piles . he had 1 piles of quarters and 2 piles of dimes . if each pile had 3 coins in it , how many coins did he have total ? x = ( 2 / 1 )\n",
      "*****\n",
      "marilyn has 1 bananas that must be put away in boxes . daniel comes to help and brings 3 cookies to share with marilyn . if there are 2 boxes , how many bananas must go in each box ? x = ( 2 / 3 )\n",
      "*****\n"
     ]
    }
   ],
   "source": [
    "for i in lst_test[1]:\n",
    "    print(df_test['ques'][i],df_test['eqn'][i], end='\\n*****\\n')"
   ],
   "metadata": {
    "collapsed": false
   }
  },
  {
   "cell_type": "code",
   "execution_count": 260,
   "outputs": [
    {
     "name": "stdout",
     "output_type": "stream",
     "text": [
      "\n",
      "2 \n"
     ]
    }
   ],
   "source": [
    "display(build(df_all['eqn'][0].split('=')[1]))"
   ],
   "metadata": {
    "collapsed": false
   }
  },
  {
   "cell_type": "code",
   "execution_count": 13,
   "outputs": [
    {
     "data": {
      "text/plain": "                                                                                                                                                                                                         ques  \\\n0                                                                                                                                                                                          what is 1 % of 2 ?   \n1                                                                                                                                                                                          what is 8 % of 2 ?   \n2                                                                                                                                                                                   2 is 1 % of what number ?   \n3                                                                                                                                                                             what is divided by 1 to get 2 ?   \n4                                                                                                                                                                   2 of a number is 1 , what is the number ?   \n...                                                                                                                                                                                                       ...   \n2872  heather went to the county fair last weekend . when she got there , she had to walk 2 mile from the car to the entrance . then she walked 2 mile to the carnival rides and 1 mile from the carnival ...   \n2873  dalton wants to buy a jump rope that costs $ 5 , a board game that costs $ 2 , and a playground ball that costs $ 1 . he has saved $ 4 from his allowance , and his uncle gave him $ 3 . how much mo...   \n2874  tom quig travelled 4 miles east of st louis . for most of the trip he travelled 1 miles per hour , but for one period of time he was slowed to 2 miles per hour due to a major accident . if the tot...   \n2875  martha wants to buy a digital camera from her 3 month savings . to do this she needs to maintain an average saving of 4 in each month . she saves 2 in the first month and 1 in the second month . f...   \n2876  a producer of packaged frozen meat wants to market mixed meat at 4 dollars per kilogram . how many kilograms of pork meat worth 6 dollars per kilogram must be mixed with 5 kilograms of chicken mea...   \n\n                                                                                         eqn  \\\n0                                                                       x = ( 1 * 0.01 ) * 2   \n1                                                                       x = ( 8 * 0.01 ) * 2   \n2                                                                       2 = ( 1 * 0.01 ) * x   \n3                                                                                  x / 1 = 2   \n4                                                                                  2 * x = 1   \n...                                                                                      ...   \n2872                                                                           2 + 2 + 1 = x   \n2873                                                                               x = 2 - 1   \n2874                                                                       x = 3 * ( 1 + 3 )   \n2875                                                   ( 3 * x ) / ( 2 + x ) = ( 1 * x ) - 3   \n2876  ( ( 4 * 2 ) + ( ( 4 * 0.01 ) * x ) ) + ( ( 1 * 0.01 ) * x ) = ( ( 2 + x ) + x ) * 0.01   \n\n                                                                                              tree  \\\n0     [<__main__.nptr object at 0x00000226B457FC40>, <__main__.nptr object at 0x00000226B457C070>]   \n1     [<__main__.nptr object at 0x00000226B4678910>, <__main__.nptr object at 0x00000226B46781F0>]   \n2     [<__main__.nptr object at 0x00000226B4678310>, <__main__.nptr object at 0x00000226B4678940>]   \n3     [<__main__.nptr object at 0x00000226B4678070>, <__main__.nptr object at 0x00000226B4678820>]   \n4     [<__main__.nptr object at 0x00000226B46787C0>, <__main__.nptr object at 0x00000226B4679B40>]   \n...                                                                                            ...   \n2872  [<__main__.nptr object at 0x00000226B4C541F0>, <__main__.nptr object at 0x00000226B4C543D0>]   \n2873  [<__main__.nptr object at 0x00000226B4C54430>, <__main__.nptr object at 0x00000226B4C54490>]   \n2874  [<__main__.nptr object at 0x00000226B4C545B0>, <__main__.nptr object at 0x00000226B4C54610>]   \n2875  [<__main__.nptr object at 0x00000226B4C547F0>, <__main__.nptr object at 0x00000226B4C54A90>]   \n2876  [<__main__.nptr object at 0x00000226B4C54C70>, <__main__.nptr object at 0x00000226B4C55210>]   \n\n                                                                                                                                                                                                       common  \n0                                                                                                                                                                               [0, 1, 462, 1877, 2377, 2627]  \n1                                                                                                                                                                               [0, 1, 462, 1877, 2377, 2627]  \n2                                                                                                                                                                                                         [2]  \n3                                                                                                                                                                                                         [3]  \n4                                                                     [4, 52, 246, 690, 721, 827, 1085, 1299, 1559, 1671, 1755, 1756, 1786, 1826, 1834, 1836, 1990, 2127, 2262, 2332, 2379, 2490, 2629, 2740]  \n...                                                                                                                                                                                                       ...  \n2872  [383, 468, 469, 741, 799, 815, 819, 829, 845, 857, 905, 906, 911, 914, 955, 966, 1050, 1213, 1219, 1250, 1317, 1528, 1547, 1634, 1647, 1693, 1706, 1735, 1790, 1798, 1825, 1830, 1832, 1839, 1853, 1...  \n2873  [40, 61, 62, 71, 77, 78, 80, 84, 97, 101, 105, 106, 109, 115, 116, 119, 121, 126, 132, 133, 134, 138, 144, 145, 146, 147, 150, 153, 155, 161, 165, 176, 177, 178, 192, 193, 199, 200, 201, 202, 203,...  \n2874  [12, 788, 789, 790, 791, 792, 798, 811, 812, 813, 841, 987, 1017, 1018, 1019, 1020, 1021, 1022, 1023, 1027, 1047, 1091, 1106, 1182, 1183, 1184, 1185, 1186, 1187, 1261, 1312, 1361, 1392, 1393, 1394...  \n2875                                                                                                                                                                                       [2125, 2625, 2875]  \n2876                                                                                                                                                                                       [2126, 2626, 2876]  \n\n[2877 rows x 4 columns]",
      "text/html": "<div>\n<style scoped>\n    .dataframe tbody tr th:only-of-type {\n        vertical-align: middle;\n    }\n\n    .dataframe tbody tr th {\n        vertical-align: top;\n    }\n\n    .dataframe thead th {\n        text-align: right;\n    }\n</style>\n<table border=\"1\" class=\"dataframe\">\n  <thead>\n    <tr style=\"text-align: right;\">\n      <th></th>\n      <th>ques</th>\n      <th>eqn</th>\n      <th>tree</th>\n      <th>common</th>\n    </tr>\n  </thead>\n  <tbody>\n    <tr>\n      <th>0</th>\n      <td>what is 1 % of 2 ?</td>\n      <td>x = ( 1 * 0.01 ) * 2</td>\n      <td>[&lt;__main__.nptr object at 0x00000226B457FC40&gt;, &lt;__main__.nptr object at 0x00000226B457C070&gt;]</td>\n      <td>[0, 1, 462, 1877, 2377, 2627]</td>\n    </tr>\n    <tr>\n      <th>1</th>\n      <td>what is 8 % of 2 ?</td>\n      <td>x = ( 8 * 0.01 ) * 2</td>\n      <td>[&lt;__main__.nptr object at 0x00000226B4678910&gt;, &lt;__main__.nptr object at 0x00000226B46781F0&gt;]</td>\n      <td>[0, 1, 462, 1877, 2377, 2627]</td>\n    </tr>\n    <tr>\n      <th>2</th>\n      <td>2 is 1 % of what number ?</td>\n      <td>2 = ( 1 * 0.01 ) * x</td>\n      <td>[&lt;__main__.nptr object at 0x00000226B4678310&gt;, &lt;__main__.nptr object at 0x00000226B4678940&gt;]</td>\n      <td>[2]</td>\n    </tr>\n    <tr>\n      <th>3</th>\n      <td>what is divided by 1 to get 2 ?</td>\n      <td>x / 1 = 2</td>\n      <td>[&lt;__main__.nptr object at 0x00000226B4678070&gt;, &lt;__main__.nptr object at 0x00000226B4678820&gt;]</td>\n      <td>[3]</td>\n    </tr>\n    <tr>\n      <th>4</th>\n      <td>2 of a number is 1 , what is the number ?</td>\n      <td>2 * x = 1</td>\n      <td>[&lt;__main__.nptr object at 0x00000226B46787C0&gt;, &lt;__main__.nptr object at 0x00000226B4679B40&gt;]</td>\n      <td>[4, 52, 246, 690, 721, 827, 1085, 1299, 1559, 1671, 1755, 1756, 1786, 1826, 1834, 1836, 1990, 2127, 2262, 2332, 2379, 2490, 2629, 2740]</td>\n    </tr>\n    <tr>\n      <th>...</th>\n      <td>...</td>\n      <td>...</td>\n      <td>...</td>\n      <td>...</td>\n    </tr>\n    <tr>\n      <th>2872</th>\n      <td>heather went to the county fair last weekend . when she got there , she had to walk 2 mile from the car to the entrance . then she walked 2 mile to the carnival rides and 1 mile from the carnival ...</td>\n      <td>2 + 2 + 1 = x</td>\n      <td>[&lt;__main__.nptr object at 0x00000226B4C541F0&gt;, &lt;__main__.nptr object at 0x00000226B4C543D0&gt;]</td>\n      <td>[383, 468, 469, 741, 799, 815, 819, 829, 845, 857, 905, 906, 911, 914, 955, 966, 1050, 1213, 1219, 1250, 1317, 1528, 1547, 1634, 1647, 1693, 1706, 1735, 1790, 1798, 1825, 1830, 1832, 1839, 1853, 1...</td>\n    </tr>\n    <tr>\n      <th>2873</th>\n      <td>dalton wants to buy a jump rope that costs $ 5 , a board game that costs $ 2 , and a playground ball that costs $ 1 . he has saved $ 4 from his allowance , and his uncle gave him $ 3 . how much mo...</td>\n      <td>x = 2 - 1</td>\n      <td>[&lt;__main__.nptr object at 0x00000226B4C54430&gt;, &lt;__main__.nptr object at 0x00000226B4C54490&gt;]</td>\n      <td>[40, 61, 62, 71, 77, 78, 80, 84, 97, 101, 105, 106, 109, 115, 116, 119, 121, 126, 132, 133, 134, 138, 144, 145, 146, 147, 150, 153, 155, 161, 165, 176, 177, 178, 192, 193, 199, 200, 201, 202, 203,...</td>\n    </tr>\n    <tr>\n      <th>2874</th>\n      <td>tom quig travelled 4 miles east of st louis . for most of the trip he travelled 1 miles per hour , but for one period of time he was slowed to 2 miles per hour due to a major accident . if the tot...</td>\n      <td>x = 3 * ( 1 + 3 )</td>\n      <td>[&lt;__main__.nptr object at 0x00000226B4C545B0&gt;, &lt;__main__.nptr object at 0x00000226B4C54610&gt;]</td>\n      <td>[12, 788, 789, 790, 791, 792, 798, 811, 812, 813, 841, 987, 1017, 1018, 1019, 1020, 1021, 1022, 1023, 1027, 1047, 1091, 1106, 1182, 1183, 1184, 1185, 1186, 1187, 1261, 1312, 1361, 1392, 1393, 1394...</td>\n    </tr>\n    <tr>\n      <th>2875</th>\n      <td>martha wants to buy a digital camera from her 3 month savings . to do this she needs to maintain an average saving of 4 in each month . she saves 2 in the first month and 1 in the second month . f...</td>\n      <td>( 3 * x ) / ( 2 + x ) = ( 1 * x ) - 3</td>\n      <td>[&lt;__main__.nptr object at 0x00000226B4C547F0&gt;, &lt;__main__.nptr object at 0x00000226B4C54A90&gt;]</td>\n      <td>[2125, 2625, 2875]</td>\n    </tr>\n    <tr>\n      <th>2876</th>\n      <td>a producer of packaged frozen meat wants to market mixed meat at 4 dollars per kilogram . how many kilograms of pork meat worth 6 dollars per kilogram must be mixed with 5 kilograms of chicken mea...</td>\n      <td>( ( 4 * 2 ) + ( ( 4 * 0.01 ) * x ) ) + ( ( 1 * 0.01 ) * x ) = ( ( 2 + x ) + x ) * 0.01</td>\n      <td>[&lt;__main__.nptr object at 0x00000226B4C54C70&gt;, &lt;__main__.nptr object at 0x00000226B4C55210&gt;]</td>\n      <td>[2126, 2626, 2876]</td>\n    </tr>\n  </tbody>\n</table>\n<p>2877 rows × 4 columns</p>\n</div>"
     },
     "execution_count": 13,
     "metadata": {},
     "output_type": "execute_result"
    }
   ],
   "source": [
    "df_temp"
   ],
   "metadata": {
    "collapsed": false
   }
  },
  {
   "cell_type": "code",
   "execution_count": 12,
   "outputs": [],
   "source": [
    "df_temp = df_all"
   ],
   "metadata": {
    "collapsed": false
   }
  },
  {
   "cell_type": "code",
   "execution_count": 19,
   "outputs": [],
   "source": [
    "df_temp.drop('tree', axis = 1, inplace=True)"
   ],
   "metadata": {
    "collapsed": false
   }
  },
  {
   "cell_type": "code",
   "execution_count": null,
   "outputs": [],
   "source": [
    "df_temp.drop('common', axis = 1, inplace=True)"
   ],
   "metadata": {
    "collapsed": false,
    "pycharm": {
     "is_executing": true
    }
   }
  },
  {
   "cell_type": "code",
   "execution_count": 35,
   "outputs": [],
   "source": [
    "df_temp.to_json('df_temp.json', orient='records')"
   ],
   "metadata": {
    "collapsed": false
   }
  },
  {
   "cell_type": "code",
   "execution_count": 25,
   "outputs": [
    {
     "data": {
      "text/plain": "2877"
     },
     "execution_count": 25,
     "metadata": {},
     "output_type": "execute_result"
    }
   ],
   "source": [
    "len(df_temp)"
   ],
   "metadata": {
    "collapsed": false
   }
  },
  {
   "cell_type": "code",
   "execution_count": 31,
   "outputs": [],
   "source": [
    "id_list = list(range(2877))"
   ],
   "metadata": {
    "collapsed": false
   }
  },
  {
   "cell_type": "code",
   "execution_count": 33,
   "outputs": [],
   "source": [
    "df_temp['id'] = id_list"
   ],
   "metadata": {
    "collapsed": false
   }
  },
  {
   "cell_type": "code",
   "execution_count": 34,
   "outputs": [
    {
     "data": {
      "text/plain": "                                                                                                                                                                                                         ques  \\\n0                                                                                                                                                                                          what is 1 % of 2 ?   \n1                                                                                                                                                                                          what is 8 % of 2 ?   \n2                                                                                                                                                                                   2 is 1 % of what number ?   \n3                                                                                                                                                                             what is divided by 1 to get 2 ?   \n4                                                                                                                                                                   2 of a number is 1 , what is the number ?   \n...                                                                                                                                                                                                       ...   \n2872  heather went to the county fair last weekend . when she got there , she had to walk 2 mile from the car to the entrance . then she walked 2 mile to the carnival rides and 1 mile from the carnival ...   \n2873  dalton wants to buy a jump rope that costs $ 5 , a board game that costs $ 2 , and a playground ball that costs $ 1 . he has saved $ 4 from his allowance , and his uncle gave him $ 3 . how much mo...   \n2874  tom quig travelled 4 miles east of st louis . for most of the trip he travelled 1 miles per hour , but for one period of time he was slowed to 2 miles per hour due to a major accident . if the tot...   \n2875  martha wants to buy a digital camera from her 3 month savings . to do this she needs to maintain an average saving of 4 in each month . she saves 2 in the first month and 1 in the second month . f...   \n2876  a producer of packaged frozen meat wants to market mixed meat at 4 dollars per kilogram . how many kilograms of pork meat worth 6 dollars per kilogram must be mixed with 5 kilograms of chicken mea...   \n\n                                                                                         eqn  \\\n0                                                                       x = ( 1 * 0.01 ) * 2   \n1                                                                       x = ( 8 * 0.01 ) * 2   \n2                                                                       2 = ( 1 * 0.01 ) * x   \n3                                                                                  x / 1 = 2   \n4                                                                                  2 * x = 1   \n...                                                                                      ...   \n2872                                                                           2 + 2 + 1 = x   \n2873                                                                               x = 2 - 1   \n2874                                                                       x = 3 * ( 1 + 3 )   \n2875                                                   ( 3 * x ) / ( 2 + x ) = ( 1 * x ) - 3   \n2876  ( ( 4 * 2 ) + ( ( 4 * 0.01 ) * x ) ) + ( ( 1 * 0.01 ) * x ) = ( ( 2 + x ) + x ) * 0.01   \n\n        id  \n0        0  \n1        1  \n2        2  \n3        3  \n4        4  \n...    ...  \n2872  2872  \n2873  2873  \n2874  2874  \n2875  2875  \n2876  2876  \n\n[2877 rows x 3 columns]",
      "text/html": "<div>\n<style scoped>\n    .dataframe tbody tr th:only-of-type {\n        vertical-align: middle;\n    }\n\n    .dataframe tbody tr th {\n        vertical-align: top;\n    }\n\n    .dataframe thead th {\n        text-align: right;\n    }\n</style>\n<table border=\"1\" class=\"dataframe\">\n  <thead>\n    <tr style=\"text-align: right;\">\n      <th></th>\n      <th>ques</th>\n      <th>eqn</th>\n      <th>id</th>\n    </tr>\n  </thead>\n  <tbody>\n    <tr>\n      <th>0</th>\n      <td>what is 1 % of 2 ?</td>\n      <td>x = ( 1 * 0.01 ) * 2</td>\n      <td>0</td>\n    </tr>\n    <tr>\n      <th>1</th>\n      <td>what is 8 % of 2 ?</td>\n      <td>x = ( 8 * 0.01 ) * 2</td>\n      <td>1</td>\n    </tr>\n    <tr>\n      <th>2</th>\n      <td>2 is 1 % of what number ?</td>\n      <td>2 = ( 1 * 0.01 ) * x</td>\n      <td>2</td>\n    </tr>\n    <tr>\n      <th>3</th>\n      <td>what is divided by 1 to get 2 ?</td>\n      <td>x / 1 = 2</td>\n      <td>3</td>\n    </tr>\n    <tr>\n      <th>4</th>\n      <td>2 of a number is 1 , what is the number ?</td>\n      <td>2 * x = 1</td>\n      <td>4</td>\n    </tr>\n    <tr>\n      <th>...</th>\n      <td>...</td>\n      <td>...</td>\n      <td>...</td>\n    </tr>\n    <tr>\n      <th>2872</th>\n      <td>heather went to the county fair last weekend . when she got there , she had to walk 2 mile from the car to the entrance . then she walked 2 mile to the carnival rides and 1 mile from the carnival ...</td>\n      <td>2 + 2 + 1 = x</td>\n      <td>2872</td>\n    </tr>\n    <tr>\n      <th>2873</th>\n      <td>dalton wants to buy a jump rope that costs $ 5 , a board game that costs $ 2 , and a playground ball that costs $ 1 . he has saved $ 4 from his allowance , and his uncle gave him $ 3 . how much mo...</td>\n      <td>x = 2 - 1</td>\n      <td>2873</td>\n    </tr>\n    <tr>\n      <th>2874</th>\n      <td>tom quig travelled 4 miles east of st louis . for most of the trip he travelled 1 miles per hour , but for one period of time he was slowed to 2 miles per hour due to a major accident . if the tot...</td>\n      <td>x = 3 * ( 1 + 3 )</td>\n      <td>2874</td>\n    </tr>\n    <tr>\n      <th>2875</th>\n      <td>martha wants to buy a digital camera from her 3 month savings . to do this she needs to maintain an average saving of 4 in each month . she saves 2 in the first month and 1 in the second month . f...</td>\n      <td>( 3 * x ) / ( 2 + x ) = ( 1 * x ) - 3</td>\n      <td>2875</td>\n    </tr>\n    <tr>\n      <th>2876</th>\n      <td>a producer of packaged frozen meat wants to market mixed meat at 4 dollars per kilogram . how many kilograms of pork meat worth 6 dollars per kilogram must be mixed with 5 kilograms of chicken mea...</td>\n      <td>( ( 4 * 2 ) + ( ( 4 * 0.01 ) * x ) ) + ( ( 1 * 0.01 ) * x ) = ( ( 2 + x ) + x ) * 0.01</td>\n      <td>2876</td>\n    </tr>\n  </tbody>\n</table>\n<p>2877 rows × 3 columns</p>\n</div>"
     },
     "execution_count": 34,
     "metadata": {},
     "output_type": "execute_result"
    }
   ],
   "source": [
    "df_temp"
   ],
   "metadata": {
    "collapsed": false
   }
  },
  {
   "cell_type": "code",
   "execution_count": null,
   "outputs": [],
   "source": [],
   "metadata": {
    "collapsed": false
   }
  }
 ],
 "metadata": {
  "kernelspec": {
   "display_name": "Python 3",
   "language": "python",
   "name": "python3"
  },
  "language_info": {
   "codemirror_mode": {
    "name": "ipython",
    "version": 2
   },
   "file_extension": ".py",
   "mimetype": "text/x-python",
   "name": "python",
   "nbconvert_exporter": "python",
   "pygments_lexer": "ipython2",
   "version": "2.7.6"
  }
 },
 "nbformat": 4,
 "nbformat_minor": 0
}
